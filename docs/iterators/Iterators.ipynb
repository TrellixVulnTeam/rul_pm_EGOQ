{
 "cells": [
  {
   "cell_type": "markdown",
   "id": "b01737fc",
   "metadata": {},
   "source": [
    "# Notebook: Iterators"
   ]
  },
  {
   "cell_type": "code",
   "execution_count": 1,
   "id": "4b3f0e3f",
   "metadata": {},
   "outputs": [
    {
     "name": "stderr",
     "output_type": "stream",
     "text": [
      "2022-08-08 22:13:48.320996: I tensorflow/core/util/util.cc:169] oneDNN custom operations are on. You may see slightly different numerical results due to floating-point round-off errors from different computation orders. To turn them off, set the environment variable `TF_ENABLE_ONEDNN_OPTS=0`.\n",
      "/home/luciano/venvs/ceruleo/lib/python3.10/site-packages/tqdm/auto.py:22: TqdmWarning: IProgress not found. Please update jupyter and ipywidgets. See https://ipywidgets.readthedocs.io/en/stable/user_install.html\n",
      "  from .autonotebook import tqdm as notebook_tqdm\n"
     ]
    }
   ],
   "source": [
    "from ceruleo.dataset.catalog.PHMDataset2018 import PHMDataset2018, FailureType"
   ]
  },
  {
   "cell_type": "markdown",
   "id": "91bfd179",
   "metadata": {},
   "source": [
    "## Load dataset"
   ]
  },
  {
   "cell_type": "code",
   "execution_count": 2,
   "id": "034973ee",
   "metadata": {},
   "outputs": [],
   "source": [
    "dataset = PHMDataset2018(\n",
    "    tools=['01_M01', '04_M01']\n",
    ")"
   ]
  },
  {
   "cell_type": "markdown",
   "id": "76c9351a",
   "metadata": {},
   "source": [
    "### Create a transformer for a dataset"
   ]
  },
  {
   "cell_type": "code",
   "execution_count": 3,
   "id": "26302993",
   "metadata": {},
   "outputs": [],
   "source": [
    "from ceruleo.dataset.analysis.numerical_features import analysis\n",
    "from ceruleo.transformation.functional.transformers import Transformer\n",
    "from ceruleo.transformation.features.selection import ByNameFeatureSelector, ByTypeFeatureSelector\n",
    "from ceruleo.iterators.iterators import RelativeToEnd\n",
    "from ceruleo.transformation.features.slicing import SliceRows\n",
    "from ceruleo.transformation.functional.pipeline.pipeline import make_pipeline\n",
    "from ceruleo.transformation.features.resamplers import IndexMeanResampler\n",
    "from ceruleo.transformation.features.transformation import Clip\n",
    "from ceruleo.transformation.features.slicing import SliceRows\n",
    "from ceruleo.iterators.iterators import RelativeToEnd"
   ]
  },
  {
   "cell_type": "code",
   "execution_count": 4,
   "id": "14bb60c6",
   "metadata": {},
   "outputs": [],
   "source": [
    "FEATURES = [\n",
    "   'IONGAUGEPRESSURE', 'ETCHBEAMVOLTAGE', 'ETCHBEAMCURRENT',\n",
    "   'ETCHSUPPRESSORVOLTAGE', 'ETCHSUPPRESSORCURRENT', 'FLOWCOOLFLOWRATE',\n",
    "   'FLOWCOOLPRESSURE', 'ETCHGASCHANNEL1READBACK', 'ETCHPBNGASREADBACK',\n",
    "]\n",
    "transformer = Transformer(\n",
    "    pipelineX=make_pipeline(\n",
    "        ByNameFeatureSelector(features=FEATURES), \n",
    "        Clip(lower=-6, upper=6),\n",
    "        IndexMeanResampler(rule='120s'),\n",
    "        SliceRows(initial=RelativeToEnd(1500))\n",
    "    ), \n",
    "    pipelineY=make_pipeline(\n",
    "        ByNameFeatureSelector(features=['RUL']),  \n",
    "        IndexMeanResampler(rule='120s'),\n",
    "        SliceRows(initial=RelativeToEnd(1500))\n",
    "    )\n",
    ")\n",
    "\n",
    "transformed_dataset = transformer.fit_map(dataset)"
   ]
  },
  {
   "cell_type": "markdown",
   "id": "e2b846e0",
   "metadata": {},
   "source": [
    "## Iterator"
   ]
  },
  {
   "cell_type": "code",
   "execution_count": 5,
   "id": "3c152752",
   "metadata": {},
   "outputs": [],
   "source": [
    "from ceruleo.iterators.iterators import WindowedDatasetIterator, IterationType"
   ]
  },
  {
   "cell_type": "markdown",
   "id": "d295787f",
   "metadata": {},
   "source": [
    "### Forecast iterator"
   ]
  },
  {
   "cell_type": "code",
   "execution_count": 6,
   "id": "c749af76",
   "metadata": {},
   "outputs": [],
   "source": [
    "iterator = WindowedDatasetIterator(\n",
    "    transformed_dataset,\n",
    "    window_size=150,\n",
    "    step=15,\n",
    "    horizon=5,\n",
    "    iteration_type=IterationType.FORECAST # The default value\n",
    ")"
   ]
  },
  {
   "cell_type": "code",
   "execution_count": 7,
   "id": "2773d408",
   "metadata": {},
   "outputs": [
    {
     "data": {
      "text/plain": [
       "((150, 9), (5, 1))"
      ]
     },
     "execution_count": 7,
     "metadata": {},
     "output_type": "execute_result"
    }
   ],
   "source": [
    "X, y, sw = next(iterator)\n",
    "(X.shape, y.shape)"
   ]
  },
  {
   "cell_type": "markdown",
   "id": "0524c751",
   "metadata": {},
   "source": [
    "It is possible to obtain all the data following the order of the shuffler in an numpy matrix. By default all the data is flattented"
   ]
  },
  {
   "cell_type": "code",
   "execution_count": 8,
   "id": "3f54d1af",
   "metadata": {},
   "outputs": [
    {
     "data": {
      "text/plain": [
       "((1679, 1350), (1679, 5), (1679,))"
      ]
     },
     "execution_count": 8,
     "metadata": {},
     "output_type": "execute_result"
    }
   ],
   "source": [
    "X, y, sw = iterator.get_data()\n",
    "(X.shape, y.shape, sw.shape)"
   ]
  },
  {
   "cell_type": "markdown",
   "id": "a31e345f",
   "metadata": {},
   "source": [
    "If flatten is False, we can see the shape of the data. X has 1679 samples, of a window size of 150 and 9 features."
   ]
  },
  {
   "cell_type": "code",
   "execution_count": 9,
   "id": "cf98c859",
   "metadata": {},
   "outputs": [
    {
     "data": {
      "text/plain": [
       "((1679, 150, 9), (1679, 5), (1679,))"
      ]
     },
     "execution_count": 9,
     "metadata": {},
     "output_type": "execute_result"
    }
   ],
   "source": [
    "X, y, sw = iterator.get_data(flatten=False)\n",
    "(X.shape, y.shape, sw.shape)"
   ]
  },
  {
   "cell_type": "markdown",
   "id": "1d7cce83",
   "metadata": {},
   "source": [
    "### Seq to Seq Iterator\n",
    "\n",
    "The seq to seq iterator will return as a target a window of a same size as the input aligned with it"
   ]
  },
  {
   "cell_type": "code",
   "execution_count": 10,
   "id": "6c52855d",
   "metadata": {},
   "outputs": [],
   "source": [
    "iterator = WindowedDatasetIterator(\n",
    "    transformed_dataset,\n",
    "    window_size=150,\n",
    "    step=15,\n",
    "    iteration_type=IterationType.SEQ_TO_SEQ \n",
    ")"
   ]
  },
  {
   "cell_type": "code",
   "execution_count": 11,
   "id": "da5aa738",
   "metadata": {},
   "outputs": [
    {
     "data": {
      "text/plain": [
       "((150, 9), (150, 1))"
      ]
     },
     "execution_count": 11,
     "metadata": {},
     "output_type": "execute_result"
    }
   ],
   "source": [
    "X, y, sw = next(iterator)\n",
    "(X.shape, y.shape)"
   ]
  },
  {
   "cell_type": "markdown",
   "id": "782e1681",
   "metadata": {},
   "source": [
    "## Batcher"
   ]
  },
  {
   "cell_type": "code",
   "execution_count": 12,
   "id": "7434d3de",
   "metadata": {},
   "outputs": [],
   "source": [
    "from ceruleo.iterators.batcher import Batcher"
   ]
  },
  {
   "cell_type": "code",
   "execution_count": 13,
   "id": "150ff24f",
   "metadata": {},
   "outputs": [
    {
     "data": {
      "text/plain": [
       "((64, 150, 9), (64, 5, 1), (64, 1))"
      ]
     },
     "execution_count": 13,
     "metadata": {},
     "output_type": "execute_result"
    }
   ],
   "source": [
    "batcher = Batcher.new(\n",
    "    transformed_dataset,\n",
    "    batch_size=64,\n",
    "    window=150,\n",
    "    step=15,\n",
    "    horizon=5\n",
    ")\n",
    "X, y, sw = next(batcher)\n",
    "(X.shape, y.shape, sw.shape)"
   ]
  },
  {
   "cell_type": "code",
   "execution_count": null,
   "id": "04edf8c4",
   "metadata": {},
   "outputs": [],
   "source": []
  }
 ],
 "metadata": {
  "kernelspec": {
   "display_name": "Python 3 (ipykernel)",
   "language": "python",
   "name": "python3"
  },
  "language_info": {
   "codemirror_mode": {
    "name": "ipython",
    "version": 3
   },
   "file_extension": ".py",
   "mimetype": "text/x-python",
   "name": "python",
   "nbconvert_exporter": "python",
   "pygments_lexer": "ipython3",
   "version": "3.10.5"
  }
 },
 "nbformat": 4,
 "nbformat_minor": 5
}
